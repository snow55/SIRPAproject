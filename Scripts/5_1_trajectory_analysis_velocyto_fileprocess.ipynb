{
 "cells": [
  {
   "cell_type": "code",
   "execution_count": 72,
   "metadata": {},
   "outputs": [
    {
     "name": "stdout",
     "output_type": "stream",
     "text": [
      "/data1/xfwang/Jupyter_notebook/Velocity/MDSC\n"
     ]
    },
    {
     "data": {
      "text/plain": [
       "<os._wrap_close at 0x7fef9702aa90>"
      ]
     },
     "execution_count": 72,
     "metadata": {},
     "output_type": "execute_result"
    }
   ],
   "source": [
    "import os\n",
    "print(os.path.abspath('.'))\n",
    "os.popen('mkdir write')\n",
    "os.popen('mkdir figures')"
   ]
  },
  {
   "cell_type": "code",
   "execution_count": 73,
   "metadata": {},
   "outputs": [
    {
     "data": {
      "text/html": [
       "<style>.container { width:90% !important; }</style>"
      ],
      "text/plain": [
       "<IPython.core.display.HTML object>"
      ]
     },
     "metadata": {},
     "output_type": "display_data"
    },
    {
     "name": "stdout",
     "output_type": "stream",
     "text": [
      "2020-11-17 00:03:44,176 - DEBUG - Loaded backend module://ipykernel.pylab.backend_inline version unknown.\n"
     ]
    }
   ],
   "source": [
    "import sys\n",
    "import numpy as np\n",
    "from scipy.stats import norm\n",
    "from scipy.spatial.distance import pdist, squareform\n",
    "import matplotlib\n",
    "import matplotlib.pyplot as plt\n",
    "from sklearn.neighbors import NearestNeighbors\n",
    "import loompy\n",
    "import velocyto as vcy\n",
    "import pandas as pd\n",
    "\n",
    "from IPython.core.display import display, HTML\n",
    "import logging\n",
    "logging.basicConfig(stream=sys.stdout, format='%(asctime)s - %(levelname)s - %(message)s', level=logging.DEBUG)\n",
    "display(HTML(\"<style>.container { width:90% !important; }</style>\"))\n",
    "%matplotlib inline"
   ]
  },
  {
   "cell_type": "code",
   "execution_count": 74,
   "metadata": {},
   "outputs": [
    {
     "name": "stdout",
     "output_type": "stream",
     "text": [
      "6732\n",
      "7943\n",
      "8432\n",
      "7045\n"
     ]
    },
    {
     "data": {
      "text/plain": [
       "6732"
      ]
     },
     "execution_count": 74,
     "metadata": {},
     "output_type": "execute_result"
    }
   ],
   "source": [
    "## 读取loom文件的方法\n",
    "dirr=\"./datasource/\"\n",
    "# loomT = vcy.VelocytoLoom(dirr+\"CRCSZ04T_out.loom\")\n",
    "dsH119WT = loompy.connect(dirr+\"H119WT_out.loom\")\n",
    "# loomP = vcy.VelocytoLoom(dirr+\"CRCSZ04P_out.loom\")\n",
    "dsH389WT = loompy.connect(dirr+\"H389WT_out.loom\")\n",
    "# loomN = vcy.VelocytoLoom(dirr+\"CRCSZ04N_out.loom\")\n",
    "dsH124KO = loompy.connect(dirr+\"H124KO_out.loom\")\n",
    "dsH382jia390KO = loompy.connect(dirr+\"H382jia390KO_out.loom\")\n",
    "## 输出每个loom文件中的细胞数\n",
    "print(len(dsH119WT.ca['CellID']))\n",
    "print(len(dsH389WT.ca['CellID']))\n",
    "print(len(dsH124KO.ca['CellID']))\n",
    "print(len(dsH382jia390KO.ca['CellID']))\n",
    "cell_dsH119WT = pd.DataFrame(dsH119WT.ca['CellID'])\n",
    "cell_dsH119WT.columns=['CellName']\n",
    "len(cell_dsH119WT['CellName'].unique())"
   ]
  },
  {
   "cell_type": "code",
   "execution_count": 5,
   "metadata": {},
   "outputs": [
    {
     "name": "stdout",
     "output_type": "stream",
     "text": [
      "2020-11-16 11:53:27,493 - WARNING - ╭── 'batch_scan_layers' is deprecated. Use 'scan' instead\n",
      "2020-11-16 11:53:27,494 - WARNING - ╰──> at /home/hou/anaconda3/lib/python3.6/site-packages/loompy/loompy.py, line 465\n",
      "2020-11-16 11:54:08,514 - WARNING - ╭── 'batch_scan_layers' is deprecated. Use 'scan' instead\n",
      "2020-11-16 11:54:08,515 - WARNING - ╰──> at /home/hou/anaconda3/lib/python3.6/site-packages/loompy/loompy.py, line 465\n",
      "2020-11-16 11:54:43,392 - WARNING - ╭── 'batch_scan_layers' is deprecated. Use 'scan' instead\n",
      "2020-11-16 11:54:43,393 - WARNING - ╰──> at /home/hou/anaconda3/lib/python3.6/site-packages/loompy/loompy.py, line 465\n"
     ]
    }
   ],
   "source": [
    "# #### 第二种方法：合并多个样品的loom文件（推荐）\n",
    "## 需安装loompy版本为2.0.7才可使用\n",
    "## 在命令行运行： ls ./*.loom |  sed \"s:^:`pwd`/: \" > loom.file.list\n",
    "## 合并MDSC的四个loom文件并写为merged4.loom\n",
    "files = []\n",
    "inf = open(\"./datasource/loom.file.list\", \"r\")\n",
    "for line in inf:\n",
    "    files.append(line.strip())\n",
    "inf.close()\n",
    "dirr = \"./write/\"\n",
    "loompy.combine(files, dirr+\"MDSC_merged4.loom\", key=\"Accession\")"
   ]
  },
  {
   "cell_type": "code",
   "execution_count": 6,
   "metadata": {},
   "outputs": [
    {
     "name": "stdout",
     "output_type": "stream",
     "text": [
      "30152\n"
     ]
    },
    {
     "data": {
      "text/plain": [
       "30152"
      ]
     },
     "execution_count": 6,
     "metadata": {},
     "output_type": "execute_result"
    }
   ],
   "source": [
    "ds = loompy.connect(dirr+\"MDSC_merged4.loom\")\n",
    "## 输出每个loom文件中的细胞数\n",
    "print(len(ds.ca['CellID']))\n",
    "cell_ds = pd.DataFrame(ds.ca['CellID'])\n",
    "cell_ds.columns=['CellName']\n",
    "len(cell_ds['CellName'].unique())"
   ]
  },
  {
   "cell_type": "code",
   "execution_count": 10,
   "metadata": {},
   "outputs": [],
   "source": [
    "vlm = vcy.VelocytoLoom(dirr+\"MDSC_merged4.loom\")"
   ]
  },
  {
   "cell_type": "code",
   "execution_count": 11,
   "metadata": {},
   "outputs": [
    {
     "data": {
      "text/plain": [
       "{'CellID': array(['H119WT_out:AAAGGGCCAGAACCGAx', 'H119WT_out:AAACGCTAGGCCTAGAx',\n",
       "        'H119WT_out:AAAGGATTCAAGGTGGx', ...,\n",
       "        'H389WT_out:TTTGGTTAGACTCTTGx', 'H389WT_out:TTTGACTTCGCGTTTCx',\n",
       "        'H389WT_out:TTTGTTGAGACTGGGTx'], dtype=object),\n",
       " 'Clusters': array([ 2,  5, 10, ...,  0,  0,  0]),\n",
       " '_X': array([-31.861305 ,   2.6219785,  -9.111278 , ..., -19.501108 ,\n",
       "        -22.226475 , -26.800665 ], dtype=float32),\n",
       " '_Y': array([ 22.487562, -45.667614,  28.579712, ...,  22.811373,  32.651466,\n",
       "         14.871033], dtype=float32)}"
      ]
     },
     "execution_count": 11,
     "metadata": {},
     "output_type": "execute_result"
    }
   ],
   "source": [
    "vlm.ca"
   ]
  },
  {
   "cell_type": "code",
   "execution_count": 17,
   "metadata": {},
   "outputs": [
    {
     "name": "stdout",
     "output_type": "stream",
     "text": [
      "(11516, 10)\n"
     ]
    },
    {
     "data": {
      "text/html": [
       "<div>\n",
       "<style scoped>\n",
       "    .dataframe tbody tr th:only-of-type {\n",
       "        vertical-align: middle;\n",
       "    }\n",
       "\n",
       "    .dataframe tbody tr th {\n",
       "        vertical-align: top;\n",
       "    }\n",
       "\n",
       "    .dataframe thead th {\n",
       "        text-align: right;\n",
       "    }\n",
       "</style>\n",
       "<table border=\"1\" class=\"dataframe\">\n",
       "  <thead>\n",
       "    <tr style=\"text-align: right;\">\n",
       "      <th></th>\n",
       "      <th>orig.ident</th>\n",
       "      <th>nCount_RNA</th>\n",
       "      <th>nFeature_RNA</th>\n",
       "      <th>percent.mt</th>\n",
       "      <th>percent.rp</th>\n",
       "      <th>group</th>\n",
       "      <th>celltype</th>\n",
       "      <th>Lcelltype</th>\n",
       "      <th>seurat_clusters</th>\n",
       "      <th>RNA_snn_res.1.5</th>\n",
       "    </tr>\n",
       "  </thead>\n",
       "  <tbody>\n",
       "    <tr>\n",
       "      <th>H382jia390KOTTACTGTTCAGTCTTT</th>\n",
       "      <td>H382jia390KO</td>\n",
       "      <td>5557</td>\n",
       "      <td>1626</td>\n",
       "      <td>10.185352</td>\n",
       "      <td>24.221702</td>\n",
       "      <td>KO</td>\n",
       "      <td>ILC2_Il5</td>\n",
       "      <td>ILC</td>\n",
       "      <td>24</td>\n",
       "      <td>24</td>\n",
       "    </tr>\n",
       "    <tr>\n",
       "      <th>H382jia390KOTTCGGTCAGATTGTGA</th>\n",
       "      <td>H382jia390KO</td>\n",
       "      <td>4092</td>\n",
       "      <td>1455</td>\n",
       "      <td>5.303030</td>\n",
       "      <td>30.840665</td>\n",
       "      <td>KO</td>\n",
       "      <td>ILC2_Il5</td>\n",
       "      <td>ILC</td>\n",
       "      <td>24</td>\n",
       "      <td>24</td>\n",
       "    </tr>\n",
       "    <tr>\n",
       "      <th>H382jia390KOTTTACTGTCATGCCCT</th>\n",
       "      <td>H382jia390KO</td>\n",
       "      <td>3584</td>\n",
       "      <td>1396</td>\n",
       "      <td>11.356027</td>\n",
       "      <td>17.717634</td>\n",
       "      <td>KO</td>\n",
       "      <td>ILC2_Il5</td>\n",
       "      <td>ILC</td>\n",
       "      <td>24</td>\n",
       "      <td>24</td>\n",
       "    </tr>\n",
       "  </tbody>\n",
       "</table>\n",
       "</div>"
      ],
      "text/plain": [
       "                                orig.ident  nCount_RNA  nFeature_RNA  \\\n",
       "H382jia390KOTTACTGTTCAGTCTTT  H382jia390KO        5557          1626   \n",
       "H382jia390KOTTCGGTCAGATTGTGA  H382jia390KO        4092          1455   \n",
       "H382jia390KOTTTACTGTCATGCCCT  H382jia390KO        3584          1396   \n",
       "\n",
       "                              percent.mt  percent.rp group  celltype  \\\n",
       "H382jia390KOTTACTGTTCAGTCTTT   10.185352   24.221702    KO  ILC2_Il5   \n",
       "H382jia390KOTTCGGTCAGATTGTGA    5.303030   30.840665    KO  ILC2_Il5   \n",
       "H382jia390KOTTTACTGTCATGCCCT   11.356027   17.717634    KO  ILC2_Il5   \n",
       "\n",
       "                             Lcelltype  seurat_clusters  RNA_snn_res.1.5  \n",
       "H382jia390KOTTACTGTTCAGTCTTT       ILC               24               24  \n",
       "H382jia390KOTTCGGTCAGATTGTGA       ILC               24               24  \n",
       "H382jia390KOTTTACTGTCATGCCCT       ILC               24               24  "
      ]
     },
     "execution_count": 17,
     "metadata": {},
     "output_type": "execute_result"
    }
   ],
   "source": [
    "annotation = pd.read_csv(\"./annotation.csv\",index_col=0)\n",
    "print(annotation.shape)\n",
    "annotation.iloc[-3:,:]"
   ]
  },
  {
   "cell_type": "code",
   "execution_count": 66,
   "metadata": {},
   "outputs": [],
   "source": [
    "## 提取所需的子细胞集\n",
    "x = vlm.ca[\"CellID\"]\n",
    "# print(x)\n",
    "y = {}\n",
    "for i in x:\n",
    "    y[i] = i.replace(\"_out:\",\"\").replace(\"x\",\"\") \n",
    "# print(y)\n",
    "subName = []\n",
    "# subdict = {}\n",
    "for key,value in y.items():\n",
    "#     print(j)\n",
    "    if value in annotation._stat_axis.values.tolist():#rownames\n",
    "        subName.append(key)\n",
    "#         subdict[key]=value"
   ]
  },
  {
   "cell_type": "code",
   "execution_count": 67,
   "metadata": {},
   "outputs": [
    {
     "name": "stdout",
     "output_type": "stream",
     "text": [
      "11496\n",
      "11496\n",
      "11496\n",
      "<class 'list'>\n",
      "['H119WT_out:AACACACTCGCCTCTAx', 'H119WT_out:AAACGAAGTCATCGGCx', 'H119WT_out:AAACGAACACTGTGATx']\n"
     ]
    }
   ],
   "source": [
    "print(len(subName))\n",
    "print(len(subdict))\n",
    "print(len(np.unique(subName)))# 检查是否有重复的细胞名称\n",
    "print(type(subName))\n",
    "print(subName[0:3])"
   ]
  },
  {
   "cell_type": "code",
   "execution_count": 64,
   "metadata": {},
   "outputs": [],
   "source": [
    "## 读入和写出最终需要分析的细胞名称的txt文件\n",
    "dirr = \"./write/\"\n",
    "f=open(dirr+\"FinalCell_velocyto.txt\",\"w\")\n",
    "# f.writelines(subName)\n",
    "f.write(str(subName))\n",
    "f.close()"
   ]
  },
  {
   "cell_type": "code",
   "execution_count": 68,
   "metadata": {},
   "outputs": [],
   "source": [
    "import copy\n",
    "vlm_0=copy.deepcopy(vlm)"
   ]
  },
  {
   "cell_type": "code",
   "execution_count": 69,
   "metadata": {},
   "outputs": [
    {
     "name": "stdout",
     "output_type": "stream",
     "text": [
      "11496\n",
      "30152\n",
      "30152\n",
      "18656\n",
      "30152\n"
     ]
    }
   ],
   "source": [
    "#### 根据已知的细胞名称，取出loom文件的子集\n",
    "print(len(subName))\n",
    "print(len(vlm.ca[\"CellID\"]))\n",
    "\n",
    "targetCell = set(subName)\n",
    "mask = []\n",
    "for e in vlm.ca[\"CellID\"]:\n",
    "    if e in targetCell:\n",
    "        mask.append(True)\n",
    "    else:\n",
    "        mask.append(False)\n",
    "        \n",
    "print(len(mask))\n",
    "false = [e for e in mask if e == False]\n",
    "print(len(false))\n",
    "mask2 = np.array(mask)\n",
    "print(len(mask2))\n",
    "type(mask2)\n",
    "\n",
    "### 过滤vlm对象，取子集\n",
    "vlm.filter_cells(bool_array=mask2)"
   ]
  },
  {
   "cell_type": "code",
   "execution_count": 70,
   "metadata": {},
   "outputs": [],
   "source": [
    "## 写出hdf5文件进行保存\n",
    "dirr = \"./write/\"\n",
    "vlm.to_hdf5(dirr+'MDSC_immuneCell_R.hdf5')\n",
    "## 读取hdf5文件进行分析\n",
    "# vlm_sub = vcy.load_velocyto_hdf5('MDSC_immuneCell_R.hdf5')"
   ]
  },
  {
   "cell_type": "code",
   "execution_count": 71,
   "metadata": {},
   "outputs": [
    {
     "data": {
      "text/plain": [
       "(31053, 11496)"
      ]
     },
     "execution_count": 71,
     "metadata": {},
     "output_type": "execute_result"
    }
   ],
   "source": [
    "vlm.S.shape"
   ]
  }
 ],
 "metadata": {
  "kernelspec": {
   "display_name": "Python 3",
   "language": "python",
   "name": "python3"
  },
  "language_info": {
   "codemirror_mode": {
    "name": "ipython",
    "version": 3
   },
   "file_extension": ".py",
   "mimetype": "text/x-python",
   "name": "python",
   "nbconvert_exporter": "python",
   "pygments_lexer": "ipython3",
   "version": "3.8.2"
  },
  "toc": {
   "base_numbering": 1,
   "nav_menu": {},
   "number_sections": true,
   "sideBar": true,
   "skip_h1_title": false,
   "title_cell": "Table of Contents",
   "title_sidebar": "Contents",
   "toc_cell": false,
   "toc_position": {},
   "toc_section_display": true,
   "toc_window_display": false
  }
 },
 "nbformat": 4,
 "nbformat_minor": 2
}
